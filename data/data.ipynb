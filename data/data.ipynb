{
 "cells": [
  {
   "cell_type": "code",
   "execution_count": 3,
   "metadata": {
    "scrolled": false
   },
   "outputs": [
    {
     "name": "stdout",
     "output_type": "stream",
     "text": [
      "Nacteno 26 zaznamu.\n"
     ]
    },
    {
     "data": {
      "text/markdown": [
       "---"
      ],
      "text/plain": [
       "<IPython.core.display.Markdown object>"
      ]
     },
     "metadata": {},
     "output_type": "display_data"
    },
    {
     "name": "stdout",
     "output_type": "stream",
     "text": [
      "Vašek Pavlík: Jaké jsou úkoly pro svědka?\n"
     ]
    },
    {
     "data": {
      "text/markdown": [
       "---"
      ],
      "text/plain": [
       "<IPython.core.display.Markdown object>"
      ]
     },
     "metadata": {},
     "output_type": "display_data"
    },
    {
     "name": "stdout",
     "output_type": "stream",
     "text": [
      "Šimon Klein: \n"
     ]
    },
    {
     "data": {
      "text/markdown": [
       "---"
      ],
      "text/plain": [
       "<IPython.core.display.Markdown object>"
      ]
     },
     "metadata": {},
     "output_type": "display_data"
    },
    {
     "name": "stdout",
     "output_type": "stream",
     "text": [
      "Václav Trojan: \n"
     ]
    },
    {
     "data": {
      "text/markdown": [
       "---"
      ],
      "text/plain": [
       "<IPython.core.display.Markdown object>"
      ]
     },
     "metadata": {},
     "output_type": "display_data"
    },
    {
     "name": "stdout",
     "output_type": "stream",
     "text": [
      "Bambule: \n"
     ]
    },
    {
     "data": {
      "text/markdown": [
       "---"
      ],
      "text/plain": [
       "<IPython.core.display.Markdown object>"
      ]
     },
     "metadata": {},
     "output_type": "display_data"
    },
    {
     "name": "stdout",
     "output_type": "stream",
     "text": [
      "Klára: Poznámky dávám nerada i ve škole........ :-)\n"
     ]
    },
    {
     "data": {
      "text/markdown": [
       "---"
      ],
      "text/plain": [
       "<IPython.core.display.Markdown object>"
      ]
     },
     "metadata": {},
     "output_type": "display_data"
    },
    {
     "name": "stdout",
     "output_type": "stream",
     "text": [
      "Viktor Šedivý : Nápoje a jejich distribuci dodám \r\n",
      "🍺🍷🍻🥂🍾\r\n",
      "😁👍.\r\n",
      "V.\n"
     ]
    },
    {
     "data": {
      "text/markdown": [
       "---"
      ],
      "text/plain": [
       "<IPython.core.display.Markdown object>"
      ]
     },
     "metadata": {},
     "output_type": "display_data"
    },
    {
     "name": "stdout",
     "output_type": "stream",
     "text": [
      "Jindřich Zeman: Hobluuuuuj!!!!\n"
     ]
    },
    {
     "data": {
      "text/markdown": [
       "---"
      ],
      "text/plain": [
       "<IPython.core.display.Markdown object>"
      ]
     },
     "metadata": {},
     "output_type": "display_data"
    },
    {
     "name": "stdout",
     "output_type": "stream",
     "text": [
      "Bára Zemanová: Dá se tam jet vlakem... ? \n"
     ]
    },
    {
     "data": {
      "text/markdown": [
       "---"
      ],
      "text/plain": [
       "<IPython.core.display.Markdown object>"
      ]
     },
     "metadata": {},
     "output_type": "display_data"
    },
    {
     "name": "stdout",
     "output_type": "stream",
     "text": [
      "Bára a Pavel: Ahoj., Pavel sice dělá řidiče ale Barušku utáhnete jen a pouze na bílý víno. Samosebou s mírou, teda možná i bez Míry, ale v přiměřeném množství aby jí nebylo po cestě domů zle. :)\n"
     ]
    },
    {
     "data": {
      "text/markdown": [
       "---"
      ],
      "text/plain": [
       "<IPython.core.display.Markdown object>"
      ]
     },
     "metadata": {},
     "output_type": "display_data"
    },
    {
     "name": "stdout",
     "output_type": "stream",
     "text": [
      "Karolína Machová: \n"
     ]
    },
    {
     "data": {
      "text/markdown": [
       "---"
      ],
      "text/plain": [
       "<IPython.core.display.Markdown object>"
      ]
     },
     "metadata": {},
     "output_type": "display_data"
    },
    {
     "name": "stdout",
     "output_type": "stream",
     "text": [
      "Kateřina Pokorná: \n"
     ]
    },
    {
     "data": {
      "text/markdown": [
       "---"
      ],
      "text/plain": [
       "<IPython.core.display.Markdown object>"
      ]
     },
     "metadata": {},
     "output_type": "display_data"
    },
    {
     "name": "stdout",
     "output_type": "stream",
     "text": [
      "Jiří Buneš : Od Bambule\n"
     ]
    },
    {
     "data": {
      "text/markdown": [
       "---"
      ],
      "text/plain": [
       "<IPython.core.display.Markdown object>"
      ]
     },
     "metadata": {},
     "output_type": "display_data"
    },
    {
     "name": "stdout",
     "output_type": "stream",
     "text": [
      "Pavla Štruncová: \n"
     ]
    },
    {
     "data": {
      "text/markdown": [
       "---"
      ],
      "text/plain": [
       "<IPython.core.display.Markdown object>"
      ]
     },
     "metadata": {},
     "output_type": "display_data"
    },
    {
     "name": "stdout",
     "output_type": "stream",
     "text": [
      "Babička Zdena Vraštilová: Jím z nabídky všechno, přizpůsobím se většině, hlavně že to nebudu muset vařit a moc díky\n"
     ]
    },
    {
     "data": {
      "text/markdown": [
       "---"
      ],
      "text/plain": [
       "<IPython.core.display.Markdown object>"
      ]
     },
     "metadata": {},
     "output_type": "display_data"
    },
    {
     "name": "stdout",
     "output_type": "stream",
     "text": [
      "Kýťa: Diky za pozvani, moc se tesim, dar budeme asi resit spolecne s ostatnimi penezne a rada pomuzu, s cimkoli bude zrovna potreba. Pa, K.\n"
     ]
    },
    {
     "data": {
      "text/markdown": [
       "---"
      ],
      "text/plain": [
       "<IPython.core.display.Markdown object>"
      ]
     },
     "metadata": {},
     "output_type": "display_data"
    },
    {
     "name": "stdout",
     "output_type": "stream",
     "text": [
      "Olga Vrastilova: \n"
     ]
    },
    {
     "data": {
      "text/markdown": [
       "---"
      ],
      "text/plain": [
       "<IPython.core.display.Markdown object>"
      ]
     },
     "metadata": {},
     "output_type": "display_data"
    },
    {
     "name": "stdout",
     "output_type": "stream",
     "text": [
      "Veronika Opplová: Odchyt štěňat jasná věc 😁\r\n",
      "\r\n",
      "PS: Mnou sestavený playlist byste příliš neocenili 😂\n"
     ]
    },
    {
     "data": {
      "text/markdown": [
       "---"
      ],
      "text/plain": [
       "<IPython.core.display.Markdown object>"
      ]
     },
     "metadata": {},
     "output_type": "display_data"
    },
    {
     "name": "stdout",
     "output_type": "stream",
     "text": [
      "Marie Slováčková: Ráda pomohu s odchytem štěňat :D dále si zkusím vyjednat volno v práci na druhý den a pomohla bych s úklidem. Také vám přispěji třeba na svatební cestu či nějaký zážitek :) \n"
     ]
    },
    {
     "data": {
      "text/markdown": [
       "---"
      ],
      "text/plain": [
       "<IPython.core.display.Markdown object>"
      ]
     },
     "metadata": {},
     "output_type": "display_data"
    },
    {
     "name": "stdout",
     "output_type": "stream",
     "text": [
      "Vojta Mazanec: \n"
     ]
    },
    {
     "data": {
      "text/markdown": [
       "---"
      ],
      "text/plain": [
       "<IPython.core.display.Markdown object>"
      ]
     },
     "metadata": {},
     "output_type": "display_data"
    },
    {
     "name": "stdout",
     "output_type": "stream",
     "text": [
      "Saša Vostálová: Čaute, jestli bude zasedací pořádek, prosím někam ke kraji, na roh atd, abych tam měla místo na kočár s Nasťou ;) Dík, těším se ;)\n"
     ]
    },
    {
     "data": {
      "text/markdown": [
       "---"
      ],
      "text/plain": [
       "<IPython.core.display.Markdown object>"
      ]
     },
     "metadata": {},
     "output_type": "display_data"
    },
    {
     "name": "stdout",
     "output_type": "stream",
     "text": [
      "Karolina Šauerová: \n"
     ]
    },
    {
     "data": {
      "text/markdown": [
       "---"
      ],
      "text/plain": [
       "<IPython.core.display.Markdown object>"
      ]
     },
     "metadata": {},
     "output_type": "display_data"
    },
    {
     "name": "stdout",
     "output_type": "stream",
     "text": [
      "Martin Korbel: \n"
     ]
    },
    {
     "data": {
      "text/markdown": [
       "---"
      ],
      "text/plain": [
       "<IPython.core.display.Markdown object>"
      ]
     },
     "metadata": {},
     "output_type": "display_data"
    },
    {
     "name": "stdout",
     "output_type": "stream",
     "text": [
      "Soňa Vyhnánková: Vyplnila jsem to! Konečně! Snad není pozdě :D\n"
     ]
    },
    {
     "data": {
      "text/markdown": [
       "---"
      ],
      "text/plain": [
       "<IPython.core.display.Markdown object>"
      ]
     },
     "metadata": {},
     "output_type": "display_data"
    },
    {
     "name": "stdout",
     "output_type": "stream",
     "text": [
      "Barbora Hejlová : \n"
     ]
    },
    {
     "data": {
      "text/markdown": [
       "---"
      ],
      "text/plain": [
       "<IPython.core.display.Markdown object>"
      ]
     },
     "metadata": {},
     "output_type": "display_data"
    },
    {
     "name": "stdout",
     "output_type": "stream",
     "text": [
      "Tereza Pavlíková: Pomáhám se vším 😆\n"
     ]
    },
    {
     "data": {
      "text/markdown": [
       "---"
      ],
      "text/plain": [
       "<IPython.core.display.Markdown object>"
      ]
     },
     "metadata": {},
     "output_type": "display_data"
    },
    {
     "name": "stdout",
     "output_type": "stream",
     "text": [
      "Jindřich Piš: Pomůžu s hudbou, a pak před a po veselce 🙂\n"
     ]
    },
    {
     "data": {
      "text/markdown": [
       "---"
      ],
      "text/plain": [
       "<IPython.core.display.Markdown object>"
      ]
     },
     "metadata": {},
     "output_type": "display_data"
    },
    {
     "name": "stdout",
     "output_type": "stream",
     "text": [
      "Piti:\n",
      "\n",
      "15 (58%): Hrňte to do mě všechno, je mi to fuk.\n",
      "4 (15%): Víno bílé, nic jiného do mě nedostanete.\n",
      "3 (12%): Alkohol nepiju, dělám řidiče.\n",
      "2 (8%): Asi víno, pivo jen k masu.\n",
      "1 (4%): Víno červené, nic jiného do mě nedostanete.\n",
      "1 (4%): Asi pivo, ale když bude víno tak ochutnám.\n"
     ]
    },
    {
     "data": {
      "text/markdown": [
       "---"
      ],
      "text/plain": [
       "<IPython.core.display.Markdown object>"
      ]
     },
     "metadata": {},
     "output_type": "display_data"
    },
    {
     "name": "stdout",
     "output_type": "stream",
     "text": [
      "Jidlo:\n",
      "\n",
      "6 (23%): Svíčková na smetaně, karlovarský knedlík\n",
      "5 (19%): Telecí pečeně, jarní brambory, grilovaná zelenina\n",
      "4 (15%): Vepřové a kuřecí řízečky\n",
      "3 (12%): Anglický roastbeef, šťouchné brambory\n",
      "3 (12%): Pečený norský losos\n",
      "2 (8%): Krůtí steak šťouchané brambory, listový špenát\n",
      "2 (8%): je mi to fuk\n",
      "1 (4%): Virgin Paella\n"
     ]
    }
   ],
   "source": [
    "import data\n",
    "from importlib import reload\n",
    "reload(data)\n",
    "my_data = data.main()"
   ]
  },
  {
   "cell_type": "code",
   "execution_count": 7,
   "metadata": {},
   "outputs": [
    {
     "data": {
      "text/plain": [
       "[{'name': 'Bára a Pavel',\n",
       "  'email': 'pawelbina@gmail.com',\n",
       "  'message': 'Ahoj., Pavel sice dělá řidiče ale Barušku utáhnete jen a pouze na bílý víno. Samosebou s mírou, teda možná i bez Míry, ale v přiměřeném množství aby jí nebylo po cestě domů zle. :)',\n",
       "  'food': 'Vepřové a kuřecí řízečky',\n",
       "  'drink': 'Alkohol nepiju, dělám řidiče.'},\n",
       " {'name': 'Jiří Buneš ',\n",
       "  'email': 'bunesjiri@seznam.cz',\n",
       "  'message': 'Od Bambule',\n",
       "  'food': 'Svíčková na smetaně, karlovarský knedlík',\n",
       "  'drink': 'Alkohol nepiju, dělám řidiče.'},\n",
       " {'name': 'Saša Vostálová',\n",
       "  'email': 'pavelkova.alexandra@gmail.com',\n",
       "  'message': 'Čaute, jestli bude zasedací pořádek, prosím někam ke kraji, na roh atd, abych tam měla místo na kočár s Nasťou ;) Dík, těším se ;)',\n",
       "  'food': 'Svíčková na smetaně, karlovarský knedlík',\n",
       "  'drink': 'Alkohol nepiju, dělám řidiče.'}]"
      ]
     },
     "execution_count": 7,
     "metadata": {},
     "output_type": "execute_result"
    }
   ],
   "source": [
    "[x for x in my_data if \"Alkohol nepiju\" in x[\"drink\"]]"
   ]
  },
  {
   "cell_type": "code",
   "execution_count": null,
   "metadata": {},
   "outputs": [],
   "source": []
  }
 ],
 "metadata": {
  "kernelspec": {
   "display_name": "Python 3",
   "language": "python",
   "name": "python3"
  },
  "language_info": {
   "codemirror_mode": {
    "name": "ipython",
    "version": 3
   },
   "file_extension": ".py",
   "mimetype": "text/x-python",
   "name": "python",
   "nbconvert_exporter": "python",
   "pygments_lexer": "ipython3",
   "version": "3.6.9"
  }
 },
 "nbformat": 4,
 "nbformat_minor": 4
}
